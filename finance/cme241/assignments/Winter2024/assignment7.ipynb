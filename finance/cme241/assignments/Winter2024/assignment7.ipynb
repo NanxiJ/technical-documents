{
 "cells": [
  {
   "cell_type": "markdown",
   "metadata": {},
   "source": [
    "# Stanford CME 241 (Winter 2024) - Assignment 7\n",
    "\n",
    "**Due: Mar 4 @ 11:59pm Pacific Time on Gradescope (after the exam).**\n",
    "\n",
    "Assignment instructions:\n",
    "- **Solve all 3 questions.**\n",
    "- Empty code blocks are for your use. Feel free to create more under each section as needed.\n",
    "\n",
    "Submission instructions:\n",
    "- When complete, fill out your publicly available GitHub repo file URL and group members below, then export or print this .ipynb file to PDF and upload the PDF to Gradescope.\n",
    "\n",
    "*Link to this ipynb file in your public GitHub repo (replace below URL with yours):* \n",
    "\n",
    "https://github.com/my-username/my-repo/assignment-file-name.ipynb\n",
    "\n",
    "*Group members (replace below names with people in your group):* \n",
    "- Person 1\n",
    "- Person 2\n",
    "- Person 3"
   ]
  },
  {
   "cell_type": "markdown",
   "metadata": {},
   "source": [
    "## Imports"
   ]
  },
  {
   "cell_type": "code",
   "execution_count": null,
   "metadata": {
    "vscode": {
     "languageId": "plaintext"
    }
   },
   "outputs": [],
   "source": []
  },
  {
   "cell_type": "markdown",
   "metadata": {},
   "source": [
    "## Question 1\n",
    "In the following question, we explore the connection between TD and MC\n",
    "algorithms.\n",
    "\n",
    "1.  Implement the TD($\\lambda$) Prediction algorithm from scratch in\n",
    "    Python code. First do it for the Tabular case, then do it for the\n",
    "    case of Function Approximation.\n",
    "\n",
    "2.  Prove that the MC Error can be written as the sum of discounted TD\n",
    "    errors, i.e.,\n",
    "    $$G_t - V(S_t) = \\sum_{u=t}^{T-1} \\gamma^{u-t} \\cdot (R_{u+1} + \\gamma \\cdot V(S_{u+1}) - V(S_u))$$\n",
    "    The goal here is for you to practice formal proof-writing of these\n",
    "    types of simple yet important identities. So aim to work this out\n",
    "    from scratch rather than treating this as a special case of a more\n",
    "    general result proved in class or in the textbook.\n",
    "\n",
    "3.  Test your above implementation of TD($\\lambda$) Prediction algorithm\n",
    "    by comparing the Value Function of an MRP you have previously\n",
    "    developed (or worked with) as obtained by Policy Evaluation (DP)\n",
    "    algorithm, as obtained by MC, as obtained by TD, and as obtained by\n",
    "    your TD($\\lambda$) implementation. Plot graphs of convergence for\n",
    "    different values of $\\lambda$.\n",
    "\n",
    "4.  Extend `RandomWalkMRP` (in\n",
    "    [rl/chapter10/random_walk_mrp.py](https://github.com/TikhonJelvis/RL-book/blob/master/rl/chapter10/random_walk_mrp.py))\n",
    "    to `RandomWalkMRP2D` which is a random walk in 2-D with states\n",
    "    $\\{i, j) | 0 \\leq i \\leq B_1, 0 \\leq j \\leq B_2\\}$ with terminal\n",
    "    states as $(0, j)$ and $(B_1, j)$ for all $j$, $(i, 0)$ and\n",
    "    $(i, B_2)$ for all $i$, and with reward of 0 for all $(0, j)$ and\n",
    "    for all $(i, 0)$, reward of 1 for all $(B_1, j)$ and for all\n",
    "    $(i, B_2)$, and with discrete probabilities of 4 movements - UP,\n",
    "    DOWN, LEFT, RIGHT from any non-terminal state. Analyze the\n",
    "    convergence of MC and TD on this `RandomWalkMRP2D` much like how we\n",
    "    analyzed it for `RandomWalkMRP`, along with plots of similar graphs."
   ]
  },
  {
   "cell_type": "code",
   "execution_count": null,
   "metadata": {
    "vscode": {
     "languageId": "plaintext"
    }
   },
   "outputs": [],
   "source": []
  },
  {
   "cell_type": "markdown",
   "metadata": {},
   "source": [
    "## Question 2\n",
    "In this question, we will explore three different algorithms for control\n",
    "based on MC or TD. Please complete 2 of the following 3 implementations.\n",
    "For each algorithm, we expect you to test your implementation against\n",
    "the Optimal Value Function/Optimal Policy obtained by DP on\n",
    "`SimpleInventoryMDPCap` in\n",
    "[rl/chapter3/simple_inventory_mdp_cap.py](https://github.com/TikhonJelvis/RL-book/blob/master/rl/chapter3/simple_inventory_mdp_cap.py).\n",
    "Then, generalize to MC Control with Function approximation and test your\n",
    "implementation against the Optimal Value Function/Optimal Policy\n",
    "obtained by ADP on `AssetAllocDiscrete` in\n",
    "[rl/chapter7/asset_alloc_discrete.py](https://github.com/TikhonJelvis/RL-book/blob/master/rl/chapter7/asset_alloc_discrete.py).\n",
    "\n",
    "1.  Implement Tabular Monte-Carlo Control algorithm in Python with GLIE\n",
    "    implemented as $\\epsilon = \\frac 1 k$ for episode number $k$ and\n",
    "    initial state of each episode sampled uniformly from the state\n",
    "    space.\n",
    "\n",
    "2.  Implement Tabular SARSA algorithm in Python with GLIE and a\n",
    "    parameterized trajectory of decreasing step sizes.\n",
    "\n",
    "3.  Implement Tabular Q-Learning algorithm in Python with infinite\n",
    "    exploration of all (state, action) pairs and with a parameterized\n",
    "    trajectory of decreasing step sizes."
   ]
  },
  {
   "cell_type": "code",
   "execution_count": null,
   "metadata": {
    "vscode": {
     "languageId": "plaintext"
    }
   },
   "outputs": [],
   "source": []
  },
  {
   "cell_type": "markdown",
   "metadata": {},
   "source": [
    "## Question 3\n",
    "Finally, we will explore reinforcment learning algorithms and apply them\n",
    "to the problem of Amercian options pricing. Implement the following two\n",
    "algorithms and apply them to the problem of American Options Pricing, as\n",
    "covered in class. Test by comparing the pricing of American Calls and\n",
    "Puts against the Binomial Tree implmeentation in\n",
    "[rl/chapter8/optimal_exercise_bin_tree.py](https://github.com/TikhonJelvis/RL-book/blob/master/rl/chapter8/optimal_exercise_bin_tree.py).\n",
    "\n",
    "1.  LSPI\n",
    "\n",
    "2.  Deep Q-Learning"
   ]
  },
  {
   "cell_type": "code",
   "execution_count": null,
   "metadata": {
    "vscode": {
     "languageId": "plaintext"
    }
   },
   "outputs": [],
   "source": []
  }
 ],
 "metadata": {
  "language_info": {
   "name": "python"
  }
 },
 "nbformat": 4,
 "nbformat_minor": 2
}
