{
 "cells": [
  {
   "cell_type": "markdown",
   "metadata": {},
   "source": [
    "# Stanford CME 241 (Winter 2024) - Assignment 5\n",
    "\n",
    "**Due: Feb 12 @ 11:59pm Pacific Time on Gradescope.**\n",
    "\n",
    "Assignment instructions:\n",
    "- **Solve any 3 of the 4 questions.**\n",
    "- Empty code blocks are for your use. Feel free to create more under each section as needed.\n",
    "\n",
    "Submission instructions:\n",
    "- When complete, fill out your publicly available GitHub repo file URL below, then export or print this .ipynb file to PDF and upload the PDF to Gradescope.\n",
    "\n",
    "*Link to this ipynb file in your public GitHub repo (replace below URL with yours):* \n",
    "\n",
    "https://github.com/my-username/my-repo/assignment-file-name.ipynb"
   ]
  },
  {
   "cell_type": "markdown",
   "metadata": {},
   "source": [
    "## Imports"
   ]
  },
  {
   "cell_type": "code",
   "execution_count": null,
   "metadata": {
    "vscode": {
     "languageId": "plaintext"
    }
   },
   "outputs": [],
   "source": []
  },
  {
   "cell_type": "markdown",
   "metadata": {},
   "source": [
    "## Question 1\n",
    "You are a milkvendor and your task is to bring to your store a supply\n",
    "(denoted $S \\in \\mathbb{R}$) of milk volume in the morning that will\n",
    "give you the best profits. You know that the demand for milk through the\n",
    "course of the day is a probability distribution function $f$ (for\n",
    "mathematical convenience, assume people can buy milk in volumes that are\n",
    "real numbers, hence milk demand $x \\in \\mathbb{R}$ is a continuous\n",
    "variable with a probability density function). For every extra gallon of\n",
    "milk you carry at the end of the day (supply $S$ exceeds random demand\n",
    "$x$), you incur a cost of $h$ (effectively the wasteful purchases\n",
    "amounting to the difference between your purchase price and end-of-day\n",
    "discount disposal price since you are not allowed to sell the same milk\n",
    "the next day). For every gallon of milk that a customer demands that you\n",
    "don't carry (random demand $x$ exceeds supply $S$), you incur a cost of\n",
    "$p$ (effectively the missed sales revenue amounting to the difference\n",
    "between your sales price and purchase price). So your task is to\n",
    "identify the optimal supply $S$ that minimizes your Expected Cost\n",
    "$g(S)$, given by the following:\n",
    "\n",
    "$$g_1(S) = E[\\max(x-S, 0)] = \\int_{-\\infty}^{\\infty} \\max(x-S, 0) \\cdot f(x) \\cdot dx = \\int_S^{\\infty} (x-S) \\cdot f(x) \\cdot dx$$\n",
    "$$g_2(S) = E[\\max(S-x, 0)] = \\int_{-\\infty}^{\\infty} \\max(S-x, 0) \\cdot f(x) \\cdot dx = \\int_{-\\infty}^S (S-x) \\cdot f(x) \\cdot dx$$\n",
    "\n",
    "$$g(S) = p \\cdot g_1(S) + h \\cdot g_2(S)$$\n",
    "\n",
    "After you solve this problem, see if you can frame this problem in terms\n",
    "of a call/put options portfolio problem."
   ]
  },
  {
   "cell_type": "code",
   "execution_count": null,
   "metadata": {
    "vscode": {
     "languageId": "plaintext"
    }
   },
   "outputs": [],
   "source": []
  },
  {
   "cell_type": "markdown",
   "metadata": {},
   "source": [
    "## Question 2\n",
    "[rl/chapter8/optimal_bin_tree.py](https://github.com/TikhonJelvis/RL-book/blob/master/rl/chapter8/optimal_exercise_bin_tree.py)\n",
    "models the American Payoff pricing problem as a `FiniteMarkovDecisionProcess` in the form of a binary tree with only two\n",
    "discrete transitions for any given asset price. In the world of mathematical and computational finance, it is common practice to work\n",
    "with continuous-valued asset prices and transitions to a continuous set of asset prices for the next time step. Your task is to model this\n",
    "problem as a `MarkovDecisionProcess` (not finite) with discrete time, continuous-valued asset prices and a continuous-set of transitions.\n",
    "Assume an arbitrary probability distribution for asset price movements from one time step to another, so you'd be sampling from the arbitrary\n",
    "transition probability distribution. Hence, you will be solving this problem with Approximate Dynamic Programming using the code in\n",
    "[rl/approximate_dynamic_programming.py](https://github.com/TikhonJelvis/RL-book/blob/master/rl/approximate_dynamic_programming.py)."
   ]
  },
  {
   "cell_type": "code",
   "execution_count": null,
   "metadata": {
    "vscode": {
     "languageId": "plaintext"
    }
   },
   "outputs": [],
   "source": []
  },
  {
   "cell_type": "markdown",
   "metadata": {},
   "source": [
    "## Question 3\n",
    "We'd like to build a simple simulator of Order Book Dynamics as a\n",
    "`MarkovProcess` using the code in\n",
    "[rl/chapter9/order_book.py](https://github.com/TikhonJelvis/RL-book/blob/master/rl/chapter9/order_book.py).\n",
    "An object of type `OrderBook` constitutes the *State*. Your task is to\n",
    "come up with a simple model for random arrivals of Market Orders and\n",
    "Limit Orders based on the current contents of the `OrderBook`. This\n",
    "model of random arrivals of Marker Orders and Limit Orders defines the\n",
    "probabilistic transitions from the current state (`OrderBook` object) to\n",
    "the next state (`OrderBook` object). Implement the probabilistic\n",
    "transitions as a `MarkovProcess` and use it's `simulate` method to\n",
    "complete your implementation of a simple simulator of Order Book\n",
    "Dynamics.\n",
    "\n",
    "Experiment with different models for random arrivals of Market Orders\n",
    "and Limit Orders."
   ]
  },
  {
   "cell_type": "code",
   "execution_count": null,
   "metadata": {
    "vscode": {
     "languageId": "plaintext"
    }
   },
   "outputs": [],
   "source": []
  },
  {
   "cell_type": "markdown",
   "metadata": {},
   "source": [
    "## Question 4\n",
    "Derive the expressions for the Optimal Value Function and Optimal Policy\n",
    "for the *Linear-Percentage Temporary* (LPT) Price Impact Model\n",
    "formulated by Bertsimas and Lo. The LPT model is described below for all\n",
    "$t = 0, 1, \\ldots T-1$:\n",
    "\n",
    "$$P_{t+1} = P_t \\cdot e^{Z_t}$$ \n",
    "\n",
    "$$X_{t+1} = \\rho \\cdot X_t + \\eta_t$$\n",
    "\n",
    "$$Q_t = P_t \\cdot (1 - \\beta \\cdot N_t - \\theta \\cdot X_t)$$ \n",
    "\n",
    "where $Z_t$ are independent and identically distributed random variables with mean\n",
    "$\\mu_Z$ and variance $\\sigma^2_Z$ for all $t = 0, 1, \\ldots, T-1$,\n",
    "$\\eta_t$ are independent and identically distributed random variables\n",
    "with mean 0 for all $t = 0, 1, \\ldots, T-1$, $Z_t$ and $\\eta_t$ are\n",
    "independent of each other for all $t = 0, 1, \\ldots, T-1$, and\n",
    "$\\rho, \\beta, \\theta$ are given constants. The model assumes no\n",
    "risk-aversion (Utility function is the identity function) and so, the\n",
    "objective is to maximize the Expected Total Sales Proceeds over the\n",
    "finite-horizon up to time $T$ (discount factor is 1). In your\n",
    "derivation, use the same methodology as we followed for the *Simple\n",
    "Linear Price Impact Model with no Risk-Aversion*.\n",
    "\n",
    "Implement this LPT model by customizing the class\n",
    "`OptimalOrderExecution` in [rl/chapter9/optimal_order_execution.py](https://github.com/TikhonJelvis/RL-book/blob/master/rl/chapter9/optimal_order_execution.py).\n",
    "\n",
    "Compare the obtained Optimal Value Function and Optimal Policy against\n",
    "the closed-form solution you derived above."
   ]
  },
  {
   "cell_type": "code",
   "execution_count": null,
   "metadata": {
    "vscode": {
     "languageId": "plaintext"
    }
   },
   "outputs": [],
   "source": []
  }
 ],
 "metadata": {
  "language_info": {
   "name": "python"
  }
 },
 "nbformat": 4,
 "nbformat_minor": 2
}
